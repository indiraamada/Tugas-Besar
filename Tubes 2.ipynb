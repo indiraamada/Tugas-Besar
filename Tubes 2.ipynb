{
 "cells": [
  {
   "cell_type": "code",
   "execution_count": 55,
   "id": "c4763a36-a38a-420e-9d23-a0dce7eaf3ca",
   "metadata": {},
   "outputs": [
    {
     "name": "stdout",
     "output_type": "stream",
     "text": [
      "Jumlah baris pada tabel data adalah 123\n"
     ]
    }
   ],
   "source": [
    "import pandas as pd\n",
    "import os\n",
    "df = pd.read_csv(\"earthquakes.csv\")\n",
    "\n",
    "print(\"Jumlah baris pada tabel data adalah \" + str(len(df)))"
   ]
  },
  {
   "cell_type": "code",
   "execution_count": 56,
   "id": "7f7e30a7-9427-440d-b353-b15c8e7ef532",
   "metadata": {},
   "outputs": [
    {
     "name": "stdout",
     "output_type": "stream",
     "text": [
      "Jumlah kolom pada tabel data adalah 7\n"
     ]
    }
   ],
   "source": [
    "print(\"Jumlah kolom pada tabel data adalah \" + str(len(df.columns)))"
   ]
  },
  {
   "cell_type": "code",
   "execution_count": 57,
   "id": "57b2b4f5-687a-4688-bb15-9d3904763e28",
   "metadata": {},
   "outputs": [
    {
     "name": "stdout",
     "output_type": "stream",
     "text": [
      "Jumlah data: 123\n"
     ]
    }
   ],
   "source": [
    "print(\"Jumlah data: \" + str(len(df))) "
   ]
  },
  {
   "cell_type": "code",
   "execution_count": 58,
   "id": "f41fe55b-92e4-4529-b09e-3d5aa29dab63",
   "metadata": {},
   "outputs": [
    {
     "name": "stdout",
     "output_type": "stream",
     "text": [
      "Ukuran file: 6958 bytes\n"
     ]
    }
   ],
   "source": [
    "file_path = \"earthquakes(1).csv\"\n",
    "size = os.path.getsize(file_path)\n",
    "print('Ukuran file: ' + str(size) + ' bytes')"
   ]
  },
  {
   "cell_type": "code",
   "execution_count": 60,
   "id": "cadc3ac9-afe8-424e-9143-162bdc5d42cc",
   "metadata": {},
   "outputs": [
    {
     "data": {
      "text/html": [
       "<div>\n",
       "<style scoped>\n",
       "    .dataframe tbody tr th:only-of-type {\n",
       "        vertical-align: middle;\n",
       "    }\n",
       "\n",
       "    .dataframe tbody tr th {\n",
       "        vertical-align: top;\n",
       "    }\n",
       "\n",
       "    .dataframe thead th {\n",
       "        text-align: right;\n",
       "    }\n",
       "</style>\n",
       "<table border=\"1\" class=\"dataframe\">\n",
       "  <thead>\n",
       "    <tr style=\"text-align: right;\">\n",
       "      <th></th>\n",
       "      <th>year</th>\n",
       "      <th>month</th>\n",
       "      <th>day</th>\n",
       "      <th>richter</th>\n",
       "      <th>area</th>\n",
       "      <th>region</th>\n",
       "      <th>deaths</th>\n",
       "    </tr>\n",
       "  </thead>\n",
       "  <tbody>\n",
       "    <tr>\n",
       "      <th>72</th>\n",
       "      <td>1970</td>\n",
       "      <td>May</td>\n",
       "      <td>31</td>\n",
       "      <td>7.9</td>\n",
       "      <td>Chimbote</td>\n",
       "      <td>Peru</td>\n",
       "      <td>700000.0</td>\n",
       "    </tr>\n",
       "  </tbody>\n",
       "</table>\n",
       "</div>"
      ],
      "text/plain": [
       "    year month  day  richter      area region    deaths\n",
       "72  1970   May   31      7.9  Chimbote   Peru  700000.0"
      ]
     },
     "execution_count": 60,
     "metadata": {},
     "output_type": "execute_result"
    }
   ],
   "source": [
    "# mengambil data dengan jumlah kematian maksimum\n",
    "imax = df[\"deaths\"].idxmax()\n",
    "df[imax:imax + 1]"
   ]
  },
  {
   "cell_type": "code",
   "execution_count": 61,
   "id": "e0095bd0-81f5-45e1-b058-8fefd198cdb7",
   "metadata": {},
   "outputs": [
    {
     "data": {
      "text/html": [
       "<div>\n",
       "<style scoped>\n",
       "    .dataframe tbody tr th:only-of-type {\n",
       "        vertical-align: middle;\n",
       "    }\n",
       "\n",
       "    .dataframe tbody tr th {\n",
       "        vertical-align: top;\n",
       "    }\n",
       "\n",
       "    .dataframe thead th {\n",
       "        text-align: right;\n",
       "    }\n",
       "</style>\n",
       "<table border=\"1\" class=\"dataframe\">\n",
       "  <thead>\n",
       "    <tr style=\"text-align: right;\">\n",
       "      <th></th>\n",
       "      <th>year</th>\n",
       "      <th>month</th>\n",
       "      <th>day</th>\n",
       "      <th>richter</th>\n",
       "      <th>area</th>\n",
       "      <th>region</th>\n",
       "      <th>deaths</th>\n",
       "    </tr>\n",
       "  </thead>\n",
       "  <tbody>\n",
       "    <tr>\n",
       "      <th>107</th>\n",
       "      <td>1992</td>\n",
       "      <td>June</td>\n",
       "      <td>28</td>\n",
       "      <td>7.3</td>\n",
       "      <td>Landers</td>\n",
       "      <td>United States</td>\n",
       "      <td>3.0</td>\n",
       "    </tr>\n",
       "  </tbody>\n",
       "</table>\n",
       "</div>"
      ],
      "text/plain": [
       "     year month  day  richter     area         region  deaths\n",
       "107  1992  June   28      7.3  Landers  United States     3.0"
      ]
     },
     "execution_count": 61,
     "metadata": {},
     "output_type": "execute_result"
    }
   ],
   "source": [
    "# mengambil data dengan jumlah kematian minimum \n",
    "imin = df[\"deaths\"].idxmin()\n",
    "df[imin:imin + 1]"
   ]
  },
  {
   "cell_type": "code",
   "execution_count": 62,
   "id": "74617752-8355-43fe-83d8-95b4599ef5a5",
   "metadata": {},
   "outputs": [
    {
     "data": {
      "text/html": [
       "<div>\n",
       "<style scoped>\n",
       "    .dataframe tbody tr th:only-of-type {\n",
       "        vertical-align: middle;\n",
       "    }\n",
       "\n",
       "    .dataframe tbody tr th {\n",
       "        vertical-align: top;\n",
       "    }\n",
       "\n",
       "    .dataframe thead th {\n",
       "        text-align: right;\n",
       "    }\n",
       "</style>\n",
       "<table border=\"1\" class=\"dataframe\">\n",
       "  <thead>\n",
       "    <tr style=\"text-align: right;\">\n",
       "      <th></th>\n",
       "      <th>year</th>\n",
       "      <th>month</th>\n",
       "      <th>day</th>\n",
       "      <th>richter</th>\n",
       "      <th>area</th>\n",
       "      <th>region</th>\n",
       "      <th>deaths</th>\n",
       "    </tr>\n",
       "  </thead>\n",
       "  <tbody>\n",
       "    <tr>\n",
       "      <th>61</th>\n",
       "      <td>1960</td>\n",
       "      <td>May</td>\n",
       "      <td>21</td>\n",
       "      <td>9.5</td>\n",
       "      <td>South</td>\n",
       "      <td>Chile</td>\n",
       "      <td>1655.0</td>\n",
       "    </tr>\n",
       "    <tr>\n",
       "      <th>64</th>\n",
       "      <td>1964</td>\n",
       "      <td>March</td>\n",
       "      <td>27</td>\n",
       "      <td>9.2</td>\n",
       "      <td>Alaska</td>\n",
       "      <td>United States</td>\n",
       "      <td>131.0</td>\n",
       "    </tr>\n",
       "    <tr>\n",
       "      <th>5</th>\n",
       "      <td>1906</td>\n",
       "      <td>January</td>\n",
       "      <td>31</td>\n",
       "      <td>8.8</td>\n",
       "      <td>Esmeraldas (off coast)</td>\n",
       "      <td>Ecuador</td>\n",
       "      <td>1000.0</td>\n",
       "    </tr>\n",
       "    <tr>\n",
       "      <th>53</th>\n",
       "      <td>1950</td>\n",
       "      <td>August</td>\n",
       "      <td>15</td>\n",
       "      <td>8.6</td>\n",
       "      <td>Assam</td>\n",
       "      <td>India</td>\n",
       "      <td>1526.0</td>\n",
       "    </tr>\n",
       "    <tr>\n",
       "      <th>8</th>\n",
       "      <td>1906</td>\n",
       "      <td>August</td>\n",
       "      <td>17</td>\n",
       "      <td>8.6</td>\n",
       "      <td>Valparaiso</td>\n",
       "      <td>Chile</td>\n",
       "      <td>3882.0</td>\n",
       "    </tr>\n",
       "    <tr>\n",
       "      <th>...</th>\n",
       "      <td>...</td>\n",
       "      <td>...</td>\n",
       "      <td>...</td>\n",
       "      <td>...</td>\n",
       "      <td>...</td>\n",
       "      <td>...</td>\n",
       "      <td>...</td>\n",
       "    </tr>\n",
       "    <tr>\n",
       "      <th>54</th>\n",
       "      <td>1951</td>\n",
       "      <td>August</td>\n",
       "      <td>2</td>\n",
       "      <td>5.8</td>\n",
       "      <td>Cosiguina</td>\n",
       "      <td>Nicaragua</td>\n",
       "      <td>1000.0</td>\n",
       "    </tr>\n",
       "    <tr>\n",
       "      <th>19</th>\n",
       "      <td>1923</td>\n",
       "      <td>March</td>\n",
       "      <td>25</td>\n",
       "      <td>5.7</td>\n",
       "      <td>Torbat-e Heydariyeh</td>\n",
       "      <td>Iran</td>\n",
       "      <td>2200.0</td>\n",
       "    </tr>\n",
       "    <tr>\n",
       "      <th>60</th>\n",
       "      <td>1960</td>\n",
       "      <td>February</td>\n",
       "      <td>29</td>\n",
       "      <td>5.7</td>\n",
       "      <td>Agadir</td>\n",
       "      <td>Morocco</td>\n",
       "      <td>12000.0</td>\n",
       "    </tr>\n",
       "    <tr>\n",
       "      <th>28</th>\n",
       "      <td>1931</td>\n",
       "      <td>April</td>\n",
       "      <td>27</td>\n",
       "      <td>5.7</td>\n",
       "      <td>Border</td>\n",
       "      <td>Armenia-Azerbaijan</td>\n",
       "      <td>2800.0</td>\n",
       "    </tr>\n",
       "    <tr>\n",
       "      <th>96</th>\n",
       "      <td>1986</td>\n",
       "      <td>October</td>\n",
       "      <td>10</td>\n",
       "      <td>5.5</td>\n",
       "      <td>NaN</td>\n",
       "      <td>El Salvador</td>\n",
       "      <td>1000.0</td>\n",
       "    </tr>\n",
       "  </tbody>\n",
       "</table>\n",
       "<p>123 rows × 7 columns</p>\n",
       "</div>"
      ],
      "text/plain": [
       "    year     month  day  richter                    area              region  \\\n",
       "61  1960       May   21      9.5                   South               Chile   \n",
       "64  1964     March   27      9.2                  Alaska       United States   \n",
       "5   1906   January   31      8.8  Esmeraldas (off coast)             Ecuador   \n",
       "53  1950    August   15      8.6                   Assam               India   \n",
       "8   1906    August   17      8.6              Valparaiso               Chile   \n",
       "..   ...       ...  ...      ...                     ...                 ...   \n",
       "54  1951    August    2      5.8               Cosiguina           Nicaragua   \n",
       "19  1923     March   25      5.7     Torbat-e Heydariyeh                Iran   \n",
       "60  1960  February   29      5.7                  Agadir             Morocco   \n",
       "28  1931     April   27      5.7                  Border  Armenia-Azerbaijan   \n",
       "96  1986   October   10      5.5                     NaN         El Salvador   \n",
       "\n",
       "     deaths  \n",
       "61   1655.0  \n",
       "64    131.0  \n",
       "5    1000.0  \n",
       "53   1526.0  \n",
       "8    3882.0  \n",
       "..      ...  \n",
       "54   1000.0  \n",
       "19   2200.0  \n",
       "60  12000.0  \n",
       "28   2800.0  \n",
       "96   1000.0  \n",
       "\n",
       "[123 rows x 7 columns]"
      ]
     },
     "execution_count": 62,
     "metadata": {},
     "output_type": "execute_result"
    }
   ],
   "source": [
    "# mengurutkan data dari skala richter terbesar sampai dengan skala richter terkecil\n",
    "df.sort_values([\"richter\"], ascending=0)"
   ]
  },
  {
   "cell_type": "code",
   "execution_count": 63,
   "id": "66b0972e-8a16-42e5-abba-3884c82cde2e",
   "metadata": {},
   "outputs": [
    {
     "data": {
      "text/html": [
       "<div>\n",
       "<style scoped>\n",
       "    .dataframe tbody tr th:only-of-type {\n",
       "        vertical-align: middle;\n",
       "    }\n",
       "\n",
       "    .dataframe tbody tr th {\n",
       "        vertical-align: top;\n",
       "    }\n",
       "\n",
       "    .dataframe thead th {\n",
       "        text-align: right;\n",
       "    }\n",
       "</style>\n",
       "<table border=\"1\" class=\"dataframe\">\n",
       "  <thead>\n",
       "    <tr style=\"text-align: right;\">\n",
       "      <th></th>\n",
       "      <th>year</th>\n",
       "      <th>month</th>\n",
       "      <th>day</th>\n",
       "      <th>richter</th>\n",
       "      <th>area</th>\n",
       "      <th>region</th>\n",
       "      <th>deaths</th>\n",
       "    </tr>\n",
       "  </thead>\n",
       "  <tbody>\n",
       "    <tr>\n",
       "      <th>72</th>\n",
       "      <td>1970</td>\n",
       "      <td>May</td>\n",
       "      <td>31</td>\n",
       "      <td>7.9</td>\n",
       "      <td>Chimbote</td>\n",
       "      <td>Peru</td>\n",
       "      <td>700000.0</td>\n",
       "    </tr>\n",
       "    <tr>\n",
       "      <th>84</th>\n",
       "      <td>1976</td>\n",
       "      <td>July</td>\n",
       "      <td>28</td>\n",
       "      <td>7.5</td>\n",
       "      <td>Tangshan</td>\n",
       "      <td>China</td>\n",
       "      <td>255000.0</td>\n",
       "    </tr>\n",
       "    <tr>\n",
       "      <th>17</th>\n",
       "      <td>1920</td>\n",
       "      <td>December</td>\n",
       "      <td>16</td>\n",
       "      <td>7.8</td>\n",
       "      <td>Gansu</td>\n",
       "      <td>China</td>\n",
       "      <td>200000.0</td>\n",
       "    </tr>\n",
       "    <tr>\n",
       "      <th>20</th>\n",
       "      <td>1923</td>\n",
       "      <td>September</td>\n",
       "      <td>1</td>\n",
       "      <td>7.9</td>\n",
       "      <td>Yokohama</td>\n",
       "      <td>Japan</td>\n",
       "      <td>142800.0</td>\n",
       "    </tr>\n",
       "    <tr>\n",
       "      <th>50</th>\n",
       "      <td>1948</td>\n",
       "      <td>October</td>\n",
       "      <td>5</td>\n",
       "      <td>7.3</td>\n",
       "      <td>Ashgabat</td>\n",
       "      <td>Turkmenistan</td>\n",
       "      <td>110000.0</td>\n",
       "    </tr>\n",
       "    <tr>\n",
       "      <th>...</th>\n",
       "      <td>...</td>\n",
       "      <td>...</td>\n",
       "      <td>...</td>\n",
       "      <td>...</td>\n",
       "      <td>...</td>\n",
       "      <td>...</td>\n",
       "      <td>...</td>\n",
       "    </tr>\n",
       "    <tr>\n",
       "      <th>100</th>\n",
       "      <td>1989</td>\n",
       "      <td>October</td>\n",
       "      <td>17</td>\n",
       "      <td>6.9</td>\n",
       "      <td>San Francisco</td>\n",
       "      <td>United States</td>\n",
       "      <td>63.0</td>\n",
       "    </tr>\n",
       "    <tr>\n",
       "      <th>111</th>\n",
       "      <td>1994</td>\n",
       "      <td>January</td>\n",
       "      <td>17</td>\n",
       "      <td>6.8</td>\n",
       "      <td>Northridge</td>\n",
       "      <td>United States</td>\n",
       "      <td>61.0</td>\n",
       "    </tr>\n",
       "    <tr>\n",
       "      <th>107</th>\n",
       "      <td>1992</td>\n",
       "      <td>June</td>\n",
       "      <td>28</td>\n",
       "      <td>7.3</td>\n",
       "      <td>Landers</td>\n",
       "      <td>United States</td>\n",
       "      <td>3.0</td>\n",
       "    </tr>\n",
       "    <tr>\n",
       "      <th>106</th>\n",
       "      <td>1992</td>\n",
       "      <td>March</td>\n",
       "      <td>15</td>\n",
       "      <td>6.0</td>\n",
       "      <td>East</td>\n",
       "      <td>Turkey</td>\n",
       "      <td>NaN</td>\n",
       "    </tr>\n",
       "    <tr>\n",
       "      <th>108</th>\n",
       "      <td>1992</td>\n",
       "      <td>June</td>\n",
       "      <td>28</td>\n",
       "      <td>6.5</td>\n",
       "      <td>Big Bear</td>\n",
       "      <td>United States</td>\n",
       "      <td>NaN</td>\n",
       "    </tr>\n",
       "  </tbody>\n",
       "</table>\n",
       "<p>123 rows × 7 columns</p>\n",
       "</div>"
      ],
      "text/plain": [
       "     year      month  day  richter           area         region    deaths\n",
       "72   1970        May   31      7.9       Chimbote           Peru  700000.0\n",
       "84   1976       July   28      7.5       Tangshan          China  255000.0\n",
       "17   1920   December   16      7.8          Gansu          China  200000.0\n",
       "20   1923  September    1      7.9       Yokohama          Japan  142800.0\n",
       "50   1948    October    5      7.3       Ashgabat   Turkmenistan  110000.0\n",
       "..    ...        ...  ...      ...            ...            ...       ...\n",
       "100  1989    October   17      6.9  San Francisco  United States      63.0\n",
       "111  1994    January   17      6.8     Northridge  United States      61.0\n",
       "107  1992       June   28      7.3        Landers  United States       3.0\n",
       "106  1992      March   15      6.0           East         Turkey       NaN\n",
       "108  1992       June   28      6.5       Big Bear  United States       NaN\n",
       "\n",
       "[123 rows x 7 columns]"
      ]
     },
     "execution_count": 63,
     "metadata": {},
     "output_type": "execute_result"
    }
   ],
   "source": [
    "# mengurutkan data dari jumlah kematian terbesar sampai dengan jumlah kematian terkecil\n",
    "df.sort_values([\"deaths\"], ascending=0)"
   ]
  },
  {
   "cell_type": "code",
   "execution_count": 35,
   "id": "51cfca5a-a6bb-4f76-8175-8b7389e3dd17",
   "metadata": {},
   "outputs": [
    {
     "data": {
      "text/plain": [
       "1976    6\n",
       "1992    5\n",
       "1906    4\n",
       "1923    3\n",
       "1966    3\n",
       "       ..\n",
       "1969    1\n",
       "1934    1\n",
       "1929    1\n",
       "1977    1\n",
       "1956    1\n",
       "Name: year, Length: 70, dtype: int64"
      ]
     },
     "execution_count": 35,
     "metadata": {},
     "output_type": "execute_result"
    }
   ],
   "source": [
    "# menampilkan tabel frekuensi kemunculan tahun \n",
    "df[\"year\"].value_counts()"
   ]
  },
  {
   "cell_type": "code",
   "execution_count": 64,
   "id": "76a741ba-e3d1-4f90-a576-1679359712c2",
   "metadata": {},
   "outputs": [
    {
     "data": {
      "text/plain": [
       "1000.0      14\n",
       "4000.0       5\n",
       "2000.0       4\n",
       "12000.0      4\n",
       "5000.0       4\n",
       "            ..\n",
       "4700.0       1\n",
       "110000.0     1\n",
       "5050.0       1\n",
       "1526.0       1\n",
       "2400.0       1\n",
       "Name: deaths, Length: 82, dtype: int64"
      ]
     },
     "execution_count": 64,
     "metadata": {},
     "output_type": "execute_result"
    }
   ],
   "source": [
    "# menampilkan tabel frekuensi kematian\n",
    "df[\"deaths\"].value_counts()"
   ]
  },
  {
   "cell_type": "code",
   "execution_count": 65,
   "id": "21e6b621-0bf3-4513-972f-34fb42702b72",
   "metadata": {},
   "outputs": [
    {
     "data": {
      "text/plain": [
       "March        17\n",
       "May          14\n",
       "December     12\n",
       "August       12\n",
       "January      11\n",
       "July         10\n",
       "February      9\n",
       "September     9\n",
       "October       8\n",
       "June          8\n",
       "April         7\n",
       "November      6\n",
       "Name: month, dtype: int64"
      ]
     },
     "execution_count": 65,
     "metadata": {},
     "output_type": "execute_result"
    }
   ],
   "source": [
    "# menampilkan tabel frekuensi kemunculan bulan\n",
    "df[\"month\"].value_counts()"
   ]
  },
  {
   "cell_type": "code",
   "execution_count": 66,
   "id": "4c7617de-bab4-4a19-81d6-0b9b3ebcb135",
   "metadata": {},
   "outputs": [
    {
     "data": {
      "text/plain": [
       "7.3    13\n",
       "6.8    11\n",
       "7.5    10\n",
       "7.0     9\n",
       "6.9     7\n",
       "7.1     7\n",
       "7.4     6\n",
       "7.6     6\n",
       "7.7     4\n",
       "7.8     4\n",
       "6.5     4\n",
       "6.0     4\n",
       "7.2     4\n",
       "6.2     4\n",
       "8.1     3\n",
       "5.9     3\n",
       "5.7     3\n",
       "7.9     3\n",
       "8.0     3\n",
       "6.6     2\n",
       "5.8     2\n",
       "6.1     2\n",
       "8.6     2\n",
       "8.8     1\n",
       "9.5     1\n",
       "9.2     1\n",
       "6.4     1\n",
       "6.7     1\n",
       "5.5     1\n",
       "8.4     1\n",
       "Name: richter, dtype: int64"
      ]
     },
     "execution_count": 66,
     "metadata": {},
     "output_type": "execute_result"
    }
   ],
   "source": [
    "# menampilkan tabel frekuensi skala richter\n",
    "df[\"richter\"].value_counts()"
   ]
  },
  {
   "cell_type": "code",
   "execution_count": 67,
   "id": "f02ca5b3-2e7b-44d0-9828-22f87c1383fb",
   "metadata": {},
   "outputs": [
    {
     "name": "stdout",
     "output_type": "stream",
     "text": [
      "skala richter minimum adalah, 5.5\n"
     ]
    }
   ],
   "source": [
    "# menentukan range skala richter dengan melihat nilai minimum\n",
    "minimum = df[\"richter\"].min()\n",
    "print(\"skala richter minimum adalah, \" + str(minimum)) # menunjukkan skala richter terkecil pada tabel data"
   ]
  },
  {
   "cell_type": "code",
   "execution_count": 68,
   "id": "30e9f904-f6e9-4a46-883e-3a69df526b75",
   "metadata": {},
   "outputs": [
    {
     "name": "stdout",
     "output_type": "stream",
     "text": [
      "skala richter maksimum adalah, 9.5\n"
     ]
    }
   ],
   "source": [
    "# menentukan range skala richter dengan melihat nilai maksimum\n",
    "maximum = df[\"richter\"].max()\n",
    "print(\"skala richter maksimum adalah, \" + str(maximum)) # menunjukkan skala richter terbesar pada tabel data"
   ]
  },
  {
   "cell_type": "code",
   "execution_count": 69,
   "id": "ab89220d-e04f-4d81-b4d2-bcabeb5cab20",
   "metadata": {},
   "outputs": [
    {
     "name": "stdout",
     "output_type": "stream",
     "text": [
      "jumlah kematian terkecil adalah, 3.0\n"
     ]
    }
   ],
   "source": [
    "# menentukan range kematian dengan melihat nilai minimum\n",
    "minimum = df[\"deaths\"].min()\n",
    "print(\"jumlah kematian terkecil adalah, \" + str(minimum)) # menunjukkan jumlah kematian terkecil pada tabel data"
   ]
  },
  {
   "cell_type": "code",
   "execution_count": 70,
   "id": "78fbaec8-c6e4-45a5-b02a-f45f8bd22268",
   "metadata": {},
   "outputs": [
    {
     "name": "stdout",
     "output_type": "stream",
     "text": [
      "jumlah kematian terbesar adalah, 700000.0\n"
     ]
    }
   ],
   "source": [
    "# menentukan range kematian dengan melihat nilai maksimum\n",
    "maximum = df[\"deaths\"].max()\n",
    "print(\"jumlah kematian terbesar adalah, \" + str(maximum))"
   ]
  },
  {
   "cell_type": "code",
   "execution_count": 48,
   "id": "f3213a9c-5dbe-471a-9101-4f81dc059258",
   "metadata": {},
   "outputs": [
    {
     "data": {
      "text/html": [
       "<div>\n",
       "<style scoped>\n",
       "    .dataframe tbody tr th:only-of-type {\n",
       "        vertical-align: middle;\n",
       "    }\n",
       "\n",
       "    .dataframe tbody tr th {\n",
       "        vertical-align: top;\n",
       "    }\n",
       "\n",
       "    .dataframe thead th {\n",
       "        text-align: right;\n",
       "    }\n",
       "</style>\n",
       "<table border=\"1\" class=\"dataframe\">\n",
       "  <thead>\n",
       "    <tr style=\"text-align: right;\">\n",
       "      <th></th>\n",
       "      <th>year</th>\n",
       "      <th>day</th>\n",
       "      <th>richter</th>\n",
       "      <th>death</th>\n",
       "    </tr>\n",
       "  </thead>\n",
       "  <tbody>\n",
       "    <tr>\n",
       "      <th>count</th>\n",
       "      <td>123.000000</td>\n",
       "      <td>123.000000</td>\n",
       "      <td>123.000000</td>\n",
       "      <td>121.000000</td>\n",
       "    </tr>\n",
       "    <tr>\n",
       "      <th>mean</th>\n",
       "      <td>1956.609756</td>\n",
       "      <td>16.975610</td>\n",
       "      <td>7.128455</td>\n",
       "      <td>17683.272727</td>\n",
       "    </tr>\n",
       "    <tr>\n",
       "      <th>std</th>\n",
       "      <td>29.379829</td>\n",
       "      <td>9.140491</td>\n",
       "      <td>0.725814</td>\n",
       "      <td>71090.697176</td>\n",
       "    </tr>\n",
       "    <tr>\n",
       "      <th>min</th>\n",
       "      <td>1902.000000</td>\n",
       "      <td>1.000000</td>\n",
       "      <td>5.500000</td>\n",
       "      <td>3.000000</td>\n",
       "    </tr>\n",
       "    <tr>\n",
       "      <th>25%</th>\n",
       "      <td>1933.000000</td>\n",
       "      <td>10.000000</td>\n",
       "      <td>6.800000</td>\n",
       "      <td>1250.000000</td>\n",
       "    </tr>\n",
       "    <tr>\n",
       "      <th>50%</th>\n",
       "      <td>1960.000000</td>\n",
       "      <td>17.000000</td>\n",
       "      <td>7.200000</td>\n",
       "      <td>2790.000000</td>\n",
       "    </tr>\n",
       "    <tr>\n",
       "      <th>75%</th>\n",
       "      <td>1981.000000</td>\n",
       "      <td>25.000000</td>\n",
       "      <td>7.500000</td>\n",
       "      <td>8000.000000</td>\n",
       "    </tr>\n",
       "    <tr>\n",
       "      <th>max</th>\n",
       "      <td>1999.000000</td>\n",
       "      <td>31.000000</td>\n",
       "      <td>9.500000</td>\n",
       "      <td>700000.000000</td>\n",
       "    </tr>\n",
       "  </tbody>\n",
       "</table>\n",
       "</div>"
      ],
      "text/plain": [
       "              year         day     richter          death\n",
       "count   123.000000  123.000000  123.000000     121.000000\n",
       "mean   1956.609756   16.975610    7.128455   17683.272727\n",
       "std      29.379829    9.140491    0.725814   71090.697176\n",
       "min    1902.000000    1.000000    5.500000       3.000000\n",
       "25%    1933.000000   10.000000    6.800000    1250.000000\n",
       "50%    1960.000000   17.000000    7.200000    2790.000000\n",
       "75%    1981.000000   25.000000    7.500000    8000.000000\n",
       "max    1999.000000   31.000000    9.500000  700000.000000"
      ]
     },
     "execution_count": 48,
     "metadata": {},
     "output_type": "execute_result"
    }
   ],
   "source": [
    "df.describe() # mengambil statistik data secara keseluruhan"
   ]
  },
  {
   "cell_type": "code",
   "execution_count": 71,
   "id": "0ca47d37-7fb8-4f80-b26e-146056bb621d",
   "metadata": {},
   "outputs": [
    {
     "data": {
      "text/plain": [
       "7.128455284552846"
      ]
     },
     "execution_count": 71,
     "metadata": {},
     "output_type": "execute_result"
    }
   ],
   "source": [
    "# mengambil statistik satu per satu\n",
    "df[\"richter\"].mean() # melihat rata-rata skala richter"
   ]
  },
  {
   "cell_type": "code",
   "execution_count": 72,
   "id": "b4f52359-ddf4-47d2-90de-2ce2399b93a5",
   "metadata": {},
   "outputs": [
    {
     "data": {
      "text/plain": [
       "0.725814446459326"
      ]
     },
     "execution_count": 72,
     "metadata": {},
     "output_type": "execute_result"
    }
   ],
   "source": [
    "df[\"richter\"].std() # melihat standar deviasi skala richter"
   ]
  },
  {
   "cell_type": "code",
   "execution_count": 73,
   "id": "0d114760-d916-432d-a121-22cfc247c086",
   "metadata": {},
   "outputs": [
    {
     "data": {
      "text/plain": [
       "17683.272727272728"
      ]
     },
     "execution_count": 73,
     "metadata": {},
     "output_type": "execute_result"
    }
   ],
   "source": [
    "df[\"deaths\"].mean() # melihat rata-rata kematian"
   ]
  },
  {
   "cell_type": "code",
   "execution_count": 74,
   "id": "3f42cbc8-d90c-4db3-83f7-53df1ec8bf41",
   "metadata": {},
   "outputs": [
    {
     "data": {
      "text/plain": [
       "71090.69717609565"
      ]
     },
     "execution_count": 74,
     "metadata": {},
     "output_type": "execute_result"
    }
   ],
   "source": [
    "df[\"deaths\"].std() # melihat standar deviasi kematian"
   ]
  },
  {
   "cell_type": "code",
   "execution_count": 75,
   "id": "2136e308-64af-43e2-9165-4785206f6460",
   "metadata": {},
   "outputs": [
    {
     "name": "stdout",
     "output_type": "stream",
     "text": [
      "Nilai korelasi antara nilai skala richter dan jumlah kematian adalah 0.1606880207295657\n"
     ]
    }
   ],
   "source": [
    "korelasi = df[\"richter\"].corr(df[\"deaths\"])\n",
    "print(\"Nilai korelasi antara nilai skala richter dan jumlah kematian adalah \" + str(korelasi))"
   ]
  },
  {
   "cell_type": "code",
   "execution_count": 76,
   "id": "28cdfc35-2278-4966-8757-e5a489ab8ef9",
   "metadata": {},
   "outputs": [
    {
     "data": {
      "text/plain": [
       "<AxesSubplot:ylabel='region'>"
      ]
     },
     "execution_count": 76,
     "metadata": {},
     "output_type": "execute_result"
    },
    {
     "data": {
      "image/png": "[encoded data removed]",
      "text/plain": [
       "<Figure size 432x288 with 1 Axes>"
      ]
     },
     "metadata": {},
     "output_type": "display_data"
    }
   ],
   "source": [
    "# visualisasi data\n",
    "# pie chart \"region\"\n",
    "df1 = df[\"region\"].value_counts()\n",
    "df1.plot(kind = \"pie\") # menampilkan pie chart yang menunjukkan region yang sering mengalami gempa bumi"
   ]
  },
  {
   "cell_type": "code",
   "execution_count": 77,
   "id": "52d31cd0-091c-4f4c-a2bd-1ab6bde8642d",
   "metadata": {},
   "outputs": [
    {
     "data": {
      "text/plain": [
       "<AxesSubplot:ylabel='month'>"
      ]
     },
     "execution_count": 77,
     "metadata": {},
     "output_type": "execute_result"
    },
    {
     "data": {
      "image/png": "[encoded data removed]",
      "text/plain": [
       "<Figure size 432x288 with 1 Axes>"
      ]
     },
     "metadata": {},
     "output_type": "display_data"
    }
   ],
   "source": [
    "# pie chart \"month\"\n",
    "import matplotlib.pyplot as plt\n",
    "df2 = df[\"month\"].value_counts()\n",
    "df2.plot(kind = \"pie\") # menampilkan pie chart yang menunjukkan bulan yang sering terlanda gempa bumi"
   ]
  },
  {
   "cell_type": "code",
   "execution_count": 78,
   "id": "fa2236eb",
   "metadata": {},
   "outputs": [
    {
     "data": {
      "image/png": "[encoded data removed]",
      "text/plain": [
       "<Figure size 432x288 with 1 Axes>"
      ]
     },
     "metadata": {
      "needs_background": "light"
     },
     "output_type": "display_data"
    }
   ],
   "source": [
    "df.plot(kind = \"scatter\", x = \"richter\", y = \"deaths\")\n",
    "plt.show()"
   ]
  }
 ],
 "metadata": {
  "kernelspec": {
   "display_name": "Python 3 (ipykernel)",
   "language": "python",
   "name": "python3"
  },
  "language_info": {
   "codemirror_mode": {
    "name": "ipython",
    "version": 3
   },
   "file_extension": ".py",
   "mimetype": "text/x-python",
   "name": "python",
   "nbconvert_exporter": "python",
   "pygments_lexer": "ipython3",
   "version": "3.10.0"
  }
 },
 "nbformat": 4,
 "nbformat_minor": 5
}
